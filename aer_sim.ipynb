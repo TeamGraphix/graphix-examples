{
  "cells": [
    {
      "cell_type": "code",
      "execution_count": null,
      "metadata": {
        "collapsed": false
      },
      "outputs": [],
      "source": [
        "%matplotlib inline"
      ]
    },
    {
      "cell_type": "markdown",
      "metadata": {},
      "source": [
        "\n",
        "# Converting MBQC pattern to qiskit circuit and simulating it with Aer\n",
        "\n",
        "In this example, we will demonstrate how to convert MBQC pattern to qiskit circuit and simulate it with Aer.\n",
        "We use the 3-qubit QFT as an example.\n",
        "\n",
        "First, let us import relevant modules and define additional gates and function we'll use:\n"
      ]
    },
    {
      "cell_type": "code",
      "execution_count": null,
      "metadata": {
        "collapsed": false
      },
      "outputs": [],
      "source": [
        "import numpy as np\n",
        "import matplotlib.pyplot as plt\n",
        "import networkx as nx\n",
        "import random\n",
        "from graphix import Circuit\n",
        "from graphix_ibmq.runner import IBMQBackend\n",
        "from qiskit.tools.visualization import plot_histogram\n",
        "from qiskit_aer.noise import NoiseModel, depolarizing_error\n",
        "\n",
        "\n",
        "def cp(circuit, theta, control, target):\n",
        "    \"\"\"Controlled phase gate, decomposed\"\"\"\n",
        "    circuit.rz(control, theta / 2)\n",
        "    circuit.rz(target, theta / 2)\n",
        "    circuit.cnot(control, target)\n",
        "    circuit.rz(target, -1 * theta / 2)\n",
        "    circuit.cnot(control, target)\n",
        "\n",
        "\n",
        "def swap(circuit, a, b):\n",
        "    \"\"\"swap gate, decomposed\"\"\"\n",
        "    circuit.cnot(a, b)\n",
        "    circuit.cnot(b, a)\n",
        "    circuit.cnot(a, b)"
      ]
    },
    {
      "cell_type": "markdown",
      "metadata": {},
      "source": [
        "Now let us define a circuit to apply QFT to three-qubit state and transpile into MBQC measurement pattern using graphix.\n",
        "\n"
      ]
    },
    {
      "cell_type": "code",
      "execution_count": null,
      "metadata": {
        "collapsed": false
      },
      "outputs": [],
      "source": [
        "circuit = Circuit(3)\n",
        "for i in range(3):\n",
        "    circuit.h(i)\n",
        "\n",
        "psi = {}\n",
        "random.seed(100)\n",
        "# prepare random state for each input qubit\n",
        "for i in range(3):\n",
        "    theta = random.uniform(0, np.pi)\n",
        "    phi = random.uniform(0, 2 * np.pi)\n",
        "    circuit.ry(i, theta)\n",
        "    circuit.rz(i, phi)\n",
        "    psi[i] = [np.cos(theta / 2), np.sin(theta / 2) * np.exp(1j * phi)]\n",
        "\n",
        "# 8 dimension input statevector\n",
        "input_state = [0] * 8\n",
        "for i in range(8):\n",
        "    i_str = f\"{i:03b}\"\n",
        "    input_state[i] = psi[0][int(i_str[0])] * psi[1][int(i_str[1])] * psi[2][int(i_str[2])]\n",
        "\n",
        "# QFT\n",
        "circuit.h(0)\n",
        "cp(circuit, np.pi / 2, 1, 0)\n",
        "cp(circuit, np.pi / 4, 2, 0)\n",
        "circuit.h(1)\n",
        "cp(circuit, np.pi / 2, 2, 1)\n",
        "circuit.h(2)\n",
        "swap(circuit, 0, 2)\n",
        "\n",
        "# transpile and plot the graph\n",
        "pattern = circuit.transpile().pattern\n",
        "nodes, edges = pattern.get_graph()\n",
        "g = nx.Graph()\n",
        "g.add_nodes_from(nodes)\n",
        "g.add_edges_from(edges)\n",
        "np.random.seed(100)\n",
        "nx.draw(g)\n",
        "plt.show()"
      ]
    },
    {
      "cell_type": "markdown",
      "metadata": {},
      "source": [
        "Now let us convert the pattern to qiskit circuit.\n",
        "\n"
      ]
    },
    {
      "cell_type": "code",
      "execution_count": null,
      "metadata": {
        "collapsed": false
      },
      "outputs": [],
      "source": [
        "# minimize the space to save memory during aer simulation\n",
        "# see https://graphix.readthedocs.io/en/latest/tutorial.html#minimizing-space-of-a-pattern\n",
        "pattern.minimize_space()\n",
        "\n",
        "# convert to qiskit circuit\n",
        "backend = IBMQBackend(pattern)\n",
        "backend.to_qiskit()\n",
        "print(type(backend.circ))"
      ]
    },
    {
      "cell_type": "markdown",
      "metadata": {},
      "source": [
        "We can now simulate the circuit with Aer.\n",
        "\n"
      ]
    },
    {
      "cell_type": "code",
      "execution_count": null,
      "metadata": {
        "collapsed": false
      },
      "outputs": [],
      "source": [
        "# run and get counts\n",
        "result = backend.simulate()"
      ]
    },
    {
      "cell_type": "markdown",
      "metadata": {},
      "source": [
        "We can also simulate the circuit with noise model\n",
        "\n"
      ]
    },
    {
      "cell_type": "code",
      "execution_count": null,
      "metadata": {
        "collapsed": false
      },
      "outputs": [],
      "source": [
        "# create an empty noise model\n",
        "noise_model = NoiseModel()\n",
        "# add depolarizing error to all single qubit u1, u2, u3 gates\n",
        "error = depolarizing_error(0.01, 1)\n",
        "noise_model.add_all_qubit_quantum_error(error, [\"u1\", \"u2\", \"u3\"])\n",
        "\n",
        "# print noise model info\n",
        "print(noise_model)"
      ]
    },
    {
      "cell_type": "markdown",
      "metadata": {},
      "source": [
        "Now we can run the simulation with noise model\n",
        "\n"
      ]
    },
    {
      "cell_type": "code",
      "execution_count": null,
      "metadata": {
        "collapsed": false
      },
      "outputs": [],
      "source": [
        "# run and get counts\n",
        "result_noise = backend.simulate(noise_model=noise_model)"
      ]
    },
    {
      "cell_type": "markdown",
      "metadata": {},
      "source": [
        "Now let us compare the results\n",
        "\n"
      ]
    },
    {
      "cell_type": "code",
      "execution_count": null,
      "metadata": {
        "collapsed": false
      },
      "outputs": [],
      "source": [
        "# calculate the analytical \n",
        "state = [0] * 8\n",
        "omega = np.exp(1j * np.pi / 4)\n",
        "\n",
        "for i in range(8):\n",
        "    for j in range(8):\n",
        "        state[i] += input_state[j] * omega ** (i * j) / 2**1.5\n",
        "\n",
        "# rescale the analytical amplitudes to compare with sampling results\n",
        "count_theory = {}\n",
        "for i in range(2**3):\n",
        "    count_theory[f\"{i:03b}\"] = 1024 * np.abs(state[i]) ** 2\n",
        "\n",
        "# plot and compare the results\n",
        "fig, ax = plt.subplots(figsize=(7,5))\n",
        "plot_histogram([count_theory, result, result_noise],\n",
        "               legend=[\"theoretical probability\", \"execution result\", \"Aer simulation w/ noise model\"],\n",
        "               ax=ax,\n",
        "               bar_labels=False)\n",
        "legend = ax.legend(fontsize=18)\n",
        "legend = ax.legend(loc='upper left')"
      ]
    }
  ],
  "metadata": {
    "kernelspec": {
      "display_name": "Python 3",
      "language": "python",
      "name": "python3"
    },
    "language_info": {
      "codemirror_mode": {
        "name": "ipython",
        "version": 3
      },
      "file_extension": ".py",
      "mimetype": "text/x-python",
      "name": "python",
      "nbconvert_exporter": "python",
      "pygments_lexer": "ipython3",
      "version": "3.9.15"
    }
  },
  "nbformat": 4,
  "nbformat_minor": 0
}
