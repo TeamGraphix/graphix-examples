{
  "cells": [
    {
      "cell_type": "markdown",
      "metadata": {},
      "source": [
        "\n",
        "# Preprocessing Clifford gates\n",
        "\n",
        "In this example, we implement the Deutsch-Jozsa algorithm which determines whether\n",
        "a function is *balanced* or *constant*.\n",
        "Since this algorithm is written only with Clifford gates, we can expect the preprocessing of Clifford gates\n",
        "would significantly improve the MBQC pattern simulation.\n",
        "You can find nice description of the algorithm [here](https://en.wikipedia.org/wiki/Deutsch%E2%80%93Jozsa_algorithm).\n",
        "\n",
        "First, let us import relevant modules:\n"
      ]
    },
    {
      "cell_type": "code",
      "execution_count": null,
      "metadata": {
        "collapsed": false
      },
      "outputs": [],
      "source": [
        "import numpy as np\n",
        "from graphix import Circuit\n",
        "import networkx as nx\n",
        "import matplotlib.pyplot as plt\n",
        "%matplotlib inline"
      ]
    },
    {
      "cell_type": "markdown",
      "metadata": {},
      "source": [
        "Now we implement the algorithm with quantum circuit, which we can transpile into MBQC.\n",
        "As an example, we look at balanced oracle for 4 qubits.\n",
        "\n"
      ]
    },
    {
      "cell_type": "code",
      "execution_count": null,
      "metadata": {
        "collapsed": false
      },
      "outputs": [],
      "source": [
        "circuit = Circuit(4)\n",
        "\n",
        "# prepare all qubits in |0> for easier comparison with original algorithm\n",
        "for i in range(4):\n",
        "    circuit.h(i)\n",
        "\n",
        "# initialization\n",
        "circuit.h(0)\n",
        "circuit.h(1)\n",
        "circuit.h(2)\n",
        "\n",
        "# prepare ancilla\n",
        "circuit.x(3)\n",
        "circuit.h(3)\n",
        "\n",
        "# balanced oracle - flip qubits 0 and 2\n",
        "circuit.x(0)\n",
        "circuit.x(2)\n",
        "\n",
        "# algorithm\n",
        "circuit.cnot(0, 3)\n",
        "circuit.cnot(1, 3)\n",
        "circuit.cnot(2, 3)\n",
        "\n",
        "circuit.x(0)\n",
        "circuit.x(2)\n",
        "\n",
        "circuit.h(0)\n",
        "circuit.h(1)\n",
        "circuit.h(2)"
      ]
    },
    {
      "cell_type": "markdown",
      "metadata": {},
      "source": [
        "Now let us transpile into MBQC measurement pattern and inspect the pattern sequence and graph state\n",
        "\n"
      ]
    },
    {
      "cell_type": "code",
      "execution_count": null,
      "metadata": {
        "collapsed": false
      },
      "outputs": [],
      "source": [
        "pattern = circuit.transpile()\n",
        "pattern.print_pattern(lim=15)\n",
        "nodes, edges = pattern.get_graph()\n",
        "g = nx.Graph()\n",
        "g.add_nodes_from(nodes)\n",
        "g.add_edges_from(edges)\n",
        "np.random.seed(100)\n",
        "nx.draw(g)\n",
        "plt.show()"
      ]
    },
    {
      "cell_type": "markdown",
      "metadata": {},
      "source": [
        "this seems to require quite a large graph state.\n",
        "However, we know that Pauli measurements can be preprocessed with graph state simulator.\n",
        "To do so, let us first standardize and shift signals, so that measurements are less interdependent.\n",
        "\n"
      ]
    },
    {
      "cell_type": "code",
      "execution_count": null,
      "metadata": {
        "collapsed": false
      },
      "outputs": [],
      "source": [
        "pattern.standardize()\n",
        "pattern.shift_signals()\n",
        "pattern.print_pattern(lim=15)"
      ]
    },
    {
      "cell_type": "markdown",
      "metadata": {},
      "source": [
        "Now we preprocess all Pauli measurements\n",
        "\n"
      ]
    },
    {
      "cell_type": "code",
      "execution_count": null,
      "metadata": {
        "collapsed": false
      },
      "outputs": [],
      "source": [
        "pattern.perform_pauli_measurements()\n",
        "pattern.print_pattern(lim=16, filter=[\"N\", \"M\", \"C\"])\n",
        "nodes, edges = pattern.get_graph()\n",
        "g = nx.Graph()\n",
        "g.add_nodes_from(nodes)\n",
        "g.add_edges_from(edges)\n",
        "np.random.seed(100)\n",
        "nx.draw(g)\n",
        "plt.show()"
      ]
    },
    {
      "cell_type": "markdown",
      "metadata": {},
      "source": [
        "Since all operations are Clifford, all measurements in the measurement pattern are Pauli measurements:\n",
        "So the preprocessing has done all the necessary computations, and all nodes are idolated with no further measurements required.\n",
        "Let us make sure the result is correct:\n",
        "\n"
      ]
    },
    {
      "cell_type": "code",
      "execution_count": null,
      "metadata": {
        "collapsed": false
      },
      "outputs": [],
      "source": [
        "out_state = pattern.simulate_pattern()\n",
        "state = circuit.simulate_statevector()\n",
        "print(\"overlap of states: \", np.abs(np.dot(state.psi.flatten().conjugate(), out_state.psi.flatten())))"
      ]
    }
  ],
  "metadata": {
    "kernelspec": {
      "display_name": "Python 3",
      "language": "python",
      "name": "python3"
    },
    "language_info": {
      "codemirror_mode": {
        "name": "ipython",
        "version": 3
      },
      "file_extension": ".py",
      "mimetype": "text/x-python",
      "name": "python",
      "nbconvert_exporter": "python",
      "pygments_lexer": "ipython3",
      "version": "3.8.13"
    }
  },
  "nbformat": 4,
  "nbformat_minor": 0
}
