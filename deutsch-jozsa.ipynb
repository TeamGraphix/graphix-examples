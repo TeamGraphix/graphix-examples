{
  "cells": [
    {
      "cell_type": "code",
      "execution_count": null,
      "metadata": {
        "collapsed": false
      },
      "outputs": [],
      "source": [
        "%matplotlib inline"
      ]
    },
    {
      "cell_type": "markdown",
      "metadata": {},
      "source": [
        "\n# Preprocessing Clifford gates\n\nIn this example, we implement the Deutsch-Jozsa algorithm which determines whether\na function is *balanced* or *constant*.\nSince this algorithm is written only with Clifford gates, we can expect the preprocessing of Clifford gates\nwould significantly improve the MBQC pattern simulation.\nYou can find nice description of the algorithm [here](https://en.wikipedia.org/wiki/Deutsch%E2%80%93Jozsa_algorithm).\n\nYou can run this code on your browser with [mybinder.org](https://mybinder.org/) - click the badge below.\n\n\n<img src=\"https://mybinder.org/badge_logo.svg\" target=\"https://mybinder.org/v2/gh/TeamGraphix/graphix-examples/HEAD?labpath=deutsch-jozsa.ipynb\">\n\nFirst, let us import relevant modules:\n"
      ]
    },
    {
      "cell_type": "code",
      "execution_count": null,
      "metadata": {
        "collapsed": false
      },
      "outputs": [],
      "source": [
        "import matplotlib.pyplot as plt\nimport networkx as nx"
      ]
    },
    {
      "cell_type": "code",
      "execution_count": null,
      "metadata": {
        "collapsed": false
      },
      "outputs": [],
      "source": [
        "import numpy as np\n\nfrom graphix import Circuit"
      ]
    },
    {
      "cell_type": "markdown",
      "metadata": {},
      "source": [
        "Now we implement the algorithm with quantum circuit, which we can transpile into MBQC.\nAs an example, we look at balanced oracle for 4 qubits.\n\n"
      ]
    },
    {
      "cell_type": "code",
      "execution_count": null,
      "metadata": {
        "collapsed": false
      },
      "outputs": [],
      "source": [
        "circuit = Circuit(4)\n\n# prepare all qubits in |0> for easier comparison with original algorithm\nfor i in range(4):\n    circuit.h(i)\n\n# initialization\ncircuit.h(0)\ncircuit.h(1)\ncircuit.h(2)\n\n# prepare ancilla\ncircuit.x(3)\ncircuit.h(3)\n\n# balanced oracle - flip qubits 0 and 2\ncircuit.x(0)\ncircuit.x(2)\n\n# algorithm\ncircuit.cnot(0, 3)\ncircuit.cnot(1, 3)\ncircuit.cnot(2, 3)\n\ncircuit.x(0)\ncircuit.x(2)\n\ncircuit.h(0)\ncircuit.h(1)\ncircuit.h(2)"
      ]
    },
    {
      "cell_type": "markdown",
      "metadata": {},
      "source": [
        "Now let us transpile into MBQC measurement pattern and inspect the pattern sequence and graph state\n\n"
      ]
    },
    {
      "cell_type": "code",
      "execution_count": null,
      "metadata": {
        "collapsed": false
      },
      "outputs": [],
      "source": [
        "pattern = circuit.transpile().pattern\npattern.print_pattern(lim=15)\npattern.draw_graph(flow_from_pattern=False)"
      ]
    },
    {
      "cell_type": "markdown",
      "metadata": {},
      "source": [
        "this seems to require quite a large graph state.\nHowever, we know that Pauli measurements can be preprocessed with graph state simulator.\nTo do so, let us first standardize and shift signals, so that measurements are less interdependent.\n\n"
      ]
    },
    {
      "cell_type": "code",
      "execution_count": null,
      "metadata": {
        "collapsed": false
      },
      "outputs": [],
      "source": [
        "pattern.standardize()\npattern.shift_signals()\npattern.print_pattern(lim=15)"
      ]
    },
    {
      "cell_type": "markdown",
      "metadata": {},
      "source": [
        "Now we preprocess all Pauli measurements\n\n"
      ]
    },
    {
      "cell_type": "code",
      "execution_count": null,
      "metadata": {
        "collapsed": false
      },
      "outputs": [],
      "source": [
        "pattern.perform_pauli_measurements()\npattern.print_pattern(lim=16, filter=[\"N\", \"M\", \"C\"])\npattern.draw_graph(flow_from_pattern=True)"
      ]
    },
    {
      "cell_type": "markdown",
      "metadata": {},
      "source": [
        "Since all operations of the original circuit are Clifford, all measurements in the measurement pattern are Pauli measurements:\nSo the preprocessing has done all the necessary computations, and all nodes are isolated with no further measurements required.\nLet us make sure the result is correct:\n\n"
      ]
    },
    {
      "cell_type": "code",
      "execution_count": null,
      "metadata": {
        "collapsed": false
      },
      "outputs": [],
      "source": [
        "out_state = pattern.simulate_pattern()\nstate = circuit.simulate_statevector().statevec\nprint(\"overlap of states: \", np.abs(np.dot(state.psi.flatten().conjugate(), out_state.psi.flatten())))"
      ]
    }
  ],
  "metadata": {
    "kernelspec": {
      "display_name": "Python 3",
      "language": "python",
      "name": "python3"
    },
    "language_info": {
      "codemirror_mode": {
        "name": "ipython",
        "version": 3
      },
      "file_extension": ".py",
      "mimetype": "text/x-python",
      "name": "python",
      "nbconvert_exporter": "python",
      "pygments_lexer": "ipython3",
      "version": "3.10.13"
    }
  },
  "nbformat": 4,
  "nbformat_minor": 0
}