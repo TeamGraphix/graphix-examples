{
  "cells": [
    {
      "cell_type": "code",
      "execution_count": null,
      "metadata": {
        "collapsed": false
      },
      "outputs": [],
      "source": [
        "%matplotlib inline"
      ]
    },
    {
      "cell_type": "markdown",
      "metadata": {},
      "source": [
        "\n# Using Tensor Network simulator\n\nIn this example, we simulate a circuit to create Greenberger-Horne-Zeilinger(GHZ) state with a tensor network simulator.\n\nYou can run this code on your browser with [mybinder.org](https://mybinder.org/) - click the badge below.\n\n<img src=\"https://mybinder.org/badge_logo.svg\" target=\"https://mybinder.org/v2/gh/TeamGraphix/graphix-examples/HEAD?labpath=ghz_with_tn.ipynb\">\n\nWe will simulate the generation of 100-qubit GHZ state.\nFirstly, let us import relevant modules:\n"
      ]
    },
    {
      "cell_type": "code",
      "execution_count": null,
      "metadata": {
        "collapsed": false
      },
      "outputs": [],
      "source": [
        "import numpy as np\nfrom graphix import Circuit\nimport networkx as nx\nimport matplotlib.pyplot as plt\n\nn = 100\nprint(f\"{n}-qubit GHZ state generation\")\ncircuit = Circuit(n)\n\n# initialize to |0> state.\nfor i in range(n):\n    circuit.h(i)\n\n# GHZ generation\ncircuit.h(0)\nfor i in range(1, n):\n    circuit.cnot(i - 1, i)"
      ]
    },
    {
      "cell_type": "markdown",
      "metadata": {},
      "source": [
        "Transpile into pattern\n\n"
      ]
    },
    {
      "cell_type": "code",
      "execution_count": null,
      "metadata": {
        "collapsed": false
      },
      "outputs": [],
      "source": [
        "pattern = circuit.transpile()\npattern.standardize()\n\nnodes, edges = pattern.get_graph()\ng = nx.Graph()\ng.add_nodes_from(nodes)\ng.add_edges_from(edges)\nprint(f\"Number of nodes: {len(nodes)}\")\nprint(f\"Number of edges: {len(edges)}\")\nnp.random.seed(100)\npos = nx.spring_layout(g)\nnx.draw(g, pos=pos, node_size=15)\nplt.show()"
      ]
    },
    {
      "cell_type": "markdown",
      "metadata": {},
      "source": [
        "Calculate the amplitudes of |00...0> and |11...1> states.\n\n"
      ]
    },
    {
      "cell_type": "code",
      "execution_count": null,
      "metadata": {
        "collapsed": false
      },
      "outputs": [],
      "source": [
        "tn = pattern.simulate_pattern(backend=\"tensornetwork\")\nprint(f\"The amplitude of |00...0>: {tn.get_basis_amplitude(0)}\")\nprint(f\"The amplitude of |00...0>: {tn.get_basis_amplitude(2**n-1)}\")"
      ]
    }
  ],
  "metadata": {
    "kernelspec": {
      "display_name": "Python 3",
      "language": "python",
      "name": "python3"
    },
    "language_info": {
      "codemirror_mode": {
        "name": "ipython",
        "version": 3
      },
      "file_extension": ".py",
      "mimetype": "text/x-python",
      "name": "python",
      "nbconvert_exporter": "python",
      "pygments_lexer": "ipython3",
      "version": "3.9.15"
    }
  },
  "nbformat": 4,
  "nbformat_minor": 0
}