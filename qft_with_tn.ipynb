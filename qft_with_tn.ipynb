{
  "cells": [
    {
      "cell_type": "code",
      "execution_count": null,
      "metadata": {
        "collapsed": false
      },
      "outputs": [],
      "source": [
        "%matplotlib inline"
      ]
    },
    {
      "cell_type": "markdown",
      "metadata": {},
      "source": [
        "\n",
        "# Large-scale simulations with tensor network simulator\n",
        "\n",
        "In this example, we demonstrate simulation of MBQC involving 10k+ nodes.\n",
        "\n",
        "You can also run this code on your browser with [mybinder.org](https://mybinder.org/) - click the badge below.\n",
        "\n",
        "<img src=\"https://mybinder.org/badge_logo.svg\" target=\"https://mybinder.org/v2/gh/TeamGraphix/graphix-examples/HEAD?labpath=qft_with_tn.ipynb\">\n",
        "\n",
        "Firstly, let us import relevant modules and define the circuit:\n"
      ]
    },
    {
      "cell_type": "code",
      "execution_count": null,
      "metadata": {
        "collapsed": false
      },
      "outputs": [],
      "source": [
        "import numpy as np\n",
        "from graphix import Circuit\n",
        "import networkx as nx\n",
        "\n",
        "\n",
        "def cp(circuit, theta, control, target):\n",
        "    circuit.rz(control, theta / 2)\n",
        "    circuit.rz(target, theta / 2)\n",
        "    circuit.cnot(control, target)\n",
        "    circuit.rz(target, -1 * theta / 2)\n",
        "    circuit.cnot(control, target)\n",
        "\n",
        "\n",
        "def qft_rotations(circuit, n):\n",
        "    circuit.h(n)\n",
        "    for qubit in range(n + 1, circuit.width):\n",
        "        cp(circuit, np.pi / 2 ** (qubit - n), qubit, n)\n",
        "\n",
        "\n",
        "def swap_registers(circuit, n):\n",
        "    for qubit in range(n // 2):\n",
        "        circuit.swap(qubit, n - qubit - 1)\n",
        "    return circuit\n",
        "\n",
        "\n",
        "def qft(circuit, n):\n",
        "    for i in range(n):\n",
        "        qft_rotations(circuit, i)\n",
        "    swap_registers(circuit, n)"
      ]
    },
    {
      "cell_type": "markdown",
      "metadata": {},
      "source": [
        "We will simulate 45-qubit QFT, which requires graph states with more than 10000 nodes.\n",
        "\n"
      ]
    },
    {
      "cell_type": "code",
      "execution_count": null,
      "metadata": {
        "collapsed": false
      },
      "outputs": [],
      "source": [
        "n = 55\n",
        "print(\"{}-qubit QFT\".format(n))\n",
        "circuit = Circuit(n)\n",
        "\n",
        "for i in range(n):\n",
        "    circuit.h(i)\n",
        "qft(circuit, n)\n",
        "\n",
        "# standardize pattern\n",
        "pattern = circuit.transpile()\n",
        "pattern.standardize()\n",
        "pattern.shift_signals()\n",
        "nodes, edges = pattern.get_graph()\n",
        "print(f\"Number of nodes: {len(nodes)}\")\n",
        "print(f\"Number of edges: {len(edges)}\")"
      ]
    },
    {
      "cell_type": "markdown",
      "metadata": {},
      "source": [
        "Using efficient graph state simulator `graphix.GraphSim`, we can classically preprocess Pauli measurements.\n",
        "We are currently improving the speed of this process by using rust-based graph manipulation backend.\n",
        "\n"
      ]
    },
    {
      "cell_type": "code",
      "execution_count": null,
      "metadata": {
        "collapsed": false
      },
      "outputs": [],
      "source": [
        "pattern.perform_pauli_measurements()"
      ]
    },
    {
      "cell_type": "markdown",
      "metadata": {},
      "source": [
        "You can easily check that the below code run without too much load on your computer.\n",
        "Also notice that we have not used :meth:`graphix.pattern.Pattern.minimize_space()`,\n",
        "which we know reduced the burden on the simulator.\n",
        "To specify TN backend of the simulation, simply provide as a keyword argument.\n",
        "here we do a very basic check that one of the statevector amplitudes is what it is expected to be:\n",
        "\n"
      ]
    },
    {
      "cell_type": "code",
      "execution_count": null,
      "metadata": {
        "collapsed": false
      },
      "outputs": [],
      "source": [
        "import time\n",
        "t1 = time.time()\n",
        "tn = pattern.simulate_pattern(backend=\"tensornetwork\")\n",
        "value = tn.get_basis_amplitude(0)\n",
        "t2 = time.time()\n",
        "print(\"amplitude of |00...0> is \", value)\n",
        "print(\"1/2^n (true answer) is\", 1 / 2**n)\n",
        "print(\"approximate execution time in seconds: \", t2 - t1)"
      ]
    }
  ],
  "metadata": {
    "kernelspec": {
      "display_name": "Python 3",
      "language": "python",
      "name": "python3"
    },
    "language_info": {
      "codemirror_mode": {
        "name": "ipython",
        "version": 3
      },
      "file_extension": ".py",
      "mimetype": "text/x-python",
      "name": "python",
      "nbconvert_exporter": "python",
      "pygments_lexer": "ipython3",
      "version": "3.8.16"
    }
  },
  "nbformat": 4,
  "nbformat_minor": 0
}
