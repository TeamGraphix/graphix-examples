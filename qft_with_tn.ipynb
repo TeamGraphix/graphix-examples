{
  "cells": [
    {
      "cell_type": "code",
      "execution_count": null,
      "metadata": {
        "collapsed": false
      },
      "outputs": [],
      "source": [
        "%matplotlib inline"
      ]
    },
    {
      "cell_type": "markdown",
      "metadata": {},
      "source": [
        "\n# Using Tensor Network simulator\n\nIn this example, we demonstrate the Tensor Network (TN) simulator to simulate MBQC\nwith up to thousands of nodes at a time.\n\nYou can run this code on your browser with [mybinder.org](https://mybinder.org/) - click the badge below.\n\n<img src=\"https://mybinder.org/badge_logo.svg\" target=\"https://mybinder.org/v2/gh/TeamGraphix/graphix-examples/HEAD?labpath=qft_with_tn.ipynb\">\n\n\nWe will simulate n-qubit QFT circuit.\nFirstly, let us import relevant modules:\n"
      ]
    },
    {
      "cell_type": "code",
      "execution_count": null,
      "metadata": {
        "collapsed": false
      },
      "outputs": [],
      "source": [
        "import numpy as np\nfrom graphix import Circuit\nimport networkx as nx\nimport matplotlib.pyplot as plt\n\n\ndef cp(circuit, theta, control, target):\n    circuit.rz(control, theta / 2)\n    circuit.rz(target, theta / 2)\n    circuit.cnot(control, target)\n    circuit.rz(target, -1 * theta / 2)\n    circuit.cnot(control, target)\n\n\ndef swap(circuit, a, b):\n    circuit.cnot(a, b)\n    circuit.cnot(b, a)\n    circuit.cnot(a, b)\n\n\ndef qft_rotations(circuit, n):\n    if n == 0:\n        return circuit\n    n -= 1\n    circuit.h(n)\n    for qubit in range(n):\n        cp(circuit, np.pi / 2 ** (n - qubit), qubit, n)\n\n\ndef swap_registers(circuit, n):\n    for qubit in range(n // 2):\n        swap(circuit, qubit, n - qubit - 1)\n    return circuit\n\n\ndef qft(circuit, n):\n    for i in range(n):\n        m = n - i\n        qft_rotations(circuit, m)\n    swap_registers(circuit, n)"
      ]
    },
    {
      "cell_type": "markdown",
      "metadata": {},
      "source": [
        "We will simulate 7-qubit QFT, which requires nearly 250 nodes to be simulated.\n\n"
      ]
    },
    {
      "cell_type": "code",
      "execution_count": null,
      "metadata": {
        "collapsed": false
      },
      "outputs": [],
      "source": [
        "n = 7\nprint(\"{}-qubit QFT\".format(n))\ncircuit = Circuit(n)\n\nfor i in range(n):\n    circuit.h(i)\nqft(circuit, n)\n\n# standardize pattern\npattern = circuit.transpile()\npattern.standardize()\nnodes, edges = pattern.get_graph()\ng = nx.Graph()\ng.add_nodes_from(nodes)\ng.add_edges_from(edges)\nnp.random.seed(100)\nnx.draw(g)\nplt.show()\nprint(len(nodes))"
      ]
    },
    {
      "cell_type": "markdown",
      "metadata": {},
      "source": [
        "You can easily check that the below code run without much load on the computer.\nAlso notice that we have not used :meth:`graphix.pattern.Pattern.minimize_space()`,\nwhich we know reduced the burden on the simulator.\nTo specify TN backend of the simulation, simply provide as a keyword argument.\nhere we do a very basic check that the state is what is is expected to be:\n\n"
      ]
    },
    {
      "cell_type": "code",
      "execution_count": null,
      "metadata": {
        "collapsed": false
      },
      "outputs": [],
      "source": [
        "tn = pattern.simulate_pattern(backend=\"tensornetwork\")\nvalue = tn.get_basis_amplitude(0)\nprint(\"amplitude of |00...0> is \", value)\nprint(\"1/2^n (true answer) is\", 1 / 2**n)"
      ]
    }
  ],
  "metadata": {
    "kernelspec": {
      "display_name": "Python 3",
      "language": "python",
      "name": "python3"
    },
    "language_info": {
      "codemirror_mode": {
        "name": "ipython",
        "version": 3
      },
      "file_extension": ".py",
      "mimetype": "text/x-python",
      "name": "python",
      "nbconvert_exporter": "python",
      "pygments_lexer": "ipython3",
      "version": "3.9.15"
    }
  },
  "nbformat": 4,
  "nbformat_minor": 0
}