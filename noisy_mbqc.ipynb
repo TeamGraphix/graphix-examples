{
  "cells": [
    {
      "cell_type": "code",
      "execution_count": null,
      "metadata": {
        "collapsed": false
      },
      "outputs": [],
      "source": [
        "%matplotlib inline"
      ]
    },
    {
      "cell_type": "markdown",
      "metadata": {},
      "source": [
        "\n# Simulating noisy MBQC\n\n:class:`~graphix.density_matrix.DensityMatrix` class (through :class:`~graphix.simulator.PatternSimulator`) \nallows the simulation of MBQC with customizable noise model.\n\nIn this example, we simulate a simple MBQC pattern with various noise models to see their effects.\nFirst, let us import relevant modules and define a pattern\n"
      ]
    },
    {
      "cell_type": "code",
      "execution_count": null,
      "metadata": {
        "collapsed": false
      },
      "outputs": [],
      "source": [
        "import numpy as np\n\nfrom graphix import Circuit\n\ncircuit = Circuit(2)\ntheta = np.random.rand(2)\ncircuit.rz(0, theta[0])\ncircuit.rz(1, theta[1])\ncircuit.cnot(0, 1)"
      ]
    },
    {
      "cell_type": "markdown",
      "metadata": {},
      "source": [
        "Now we transpile into measurement pattern using :meth:`~graphix.transpiler.Circuit.transpile` method.\nThis returns :class:`~graphix.pattern.Pattern` object containing measurement pattern:\n\n"
      ]
    },
    {
      "cell_type": "code",
      "execution_count": null,
      "metadata": {
        "collapsed": false
      },
      "outputs": [],
      "source": [
        "pattern = circuit.transpile().pattern\npattern.print_pattern(lim=30)\n# pattern.draw_graph()"
      ]
    },
    {
      "cell_type": "markdown",
      "metadata": {},
      "source": [
        "simulate with statevector backend:\n\n"
      ]
    },
    {
      "cell_type": "code",
      "execution_count": null,
      "metadata": {
        "collapsed": false
      },
      "outputs": [],
      "source": [
        "out_state = pattern.simulate_pattern(backend=\"statevector\")\nprint(out_state.flatten())\n\nfrom graphix.channels import KrausChannel, dephasing_channel\nfrom graphix.noise_models.noise_model import NoiseModel"
      ]
    },
    {
      "cell_type": "markdown",
      "metadata": {},
      "source": [
        "Now let us define a noise model. We specify Kraus channels for each of the command executions.\nHere, we apply dephasing noise to the qubit preparation.\n\n"
      ]
    },
    {
      "cell_type": "code",
      "execution_count": null,
      "metadata": {
        "collapsed": false
      },
      "outputs": [],
      "source": [
        "from graphix.noise_models.noiseless_noise_model import NoiselessNoiseModel\n\n\nclass NoisyGraphState(NoiseModel):\n\n    def __init__(self, p_z=0.1):\n        self.p_z = p_z\n\n    def prepare_qubit(self):\n        \"\"\"return the channel to apply after clean single-qubit preparation. Here just we prepare dephased qubits.\"\"\"\n        return dephasing_channel(self.p_z)\n\n    def entangle(self):\n        \"\"\"return noise model to qubits that happens after the CZ gate. just identity no noise for this noise model.\"\"\"\n        return KrausChannel([{\"coef\": 1.0, \"operator\": np.eye(4)}])\n\n    def measure(self):\n        \"\"\"apply noise to qubit to be measured.\"\"\"\n        return KrausChannel([{\"coef\": 1.0, \"operator\": np.eye(2)}])\n\n    def confuse_result(self, cmd):\n        \"\"\"imperfect measurement effect. here we do nothing (no error).\n        cmd = \"M\"\n        \"\"\"\n        pass\n\n    def byproduct_x(self):\n        \"\"\"apply noise to qubits after X gate correction. here no error (identity).\"\"\"\n        return KrausChannel([{\"coef\": 1.0, \"operator\": np.eye(2)}])\n\n    def byproduct_z(self):\n        \"\"\"apply noise to qubits after Z gate correction. here no error (identity).\"\"\"\n        return KrausChannel([{\"coef\": 1.0, \"operator\": np.eye(2)}])\n\n    def clifford(self):\n        \"\"\"apply noise to qubits that happens in the Clifford gate process. here no error (identity).\"\"\"\n        return KrausChannel([{\"coef\": 1.0, \"operator\": np.eye(2)}])\n\n    def tick_clock(self):\n        \"\"\"notion of time in real devices - this is where we apply effect of T1 and T2.\n        we assume commands that lie between 'T' commands run simultaneously on the device.\n\n        here we assume no idle error.\n        \"\"\"\n        pass"
      ]
    },
    {
      "cell_type": "markdown",
      "metadata": {},
      "source": [
        "simulate with the noise model\n\n"
      ]
    },
    {
      "cell_type": "code",
      "execution_count": null,
      "metadata": {
        "collapsed": false
      },
      "outputs": [],
      "source": [
        "from graphix.simulator import PatternSimulator\n\nsimulator = PatternSimulator(pattern, backend=\"densitymatrix\", noise_model=NoisyGraphState(p_z=0.01))\ndm_result = simulator.run()\nprint(dm_result.fidelity(out_state.psi.flatten()))"
      ]
    },
    {
      "cell_type": "code",
      "execution_count": null,
      "metadata": {
        "collapsed": false
      },
      "outputs": [],
      "source": [
        "import matplotlib.pyplot as plt\n\nerr_arr = np.logspace(-4, -1, 10)\nfidelity = np.zeros(10)\nfor i in range(10):\n    simulator = PatternSimulator(pattern, backend=\"densitymatrix\", noise_model=NoisyGraphState(p_z=err_arr[i]))\n    dm_result = simulator.run()\n    fidelity[i] = dm_result.fidelity(out_state.psi.flatten())\n\nplt.semilogx(err_arr, fidelity, \"o:\")\nplt.xlabel(\"dephasing error of qubit preparation\")\nplt.ylabel(\"Final fidelity\")\nplt.show()"
      ]
    }
  ],
  "metadata": {
    "kernelspec": {
      "display_name": "Python 3",
      "language": "python",
      "name": "python3"
    },
    "language_info": {
      "codemirror_mode": {
        "name": "ipython",
        "version": 3
      },
      "file_extension": ".py",
      "mimetype": "text/x-python",
      "name": "python",
      "nbconvert_exporter": "python",
      "pygments_lexer": "ipython3",
      "version": "3.10.13"
    }
  },
  "nbformat": 4,
  "nbformat_minor": 0
}