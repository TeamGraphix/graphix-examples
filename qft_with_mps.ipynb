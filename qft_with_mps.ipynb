{
  "cells": [
    {
      "cell_type": "markdown",
      "metadata": {},
      "source": [
        "\n",
        "# Using MPS simulator\n",
        "\n",
        "In this example, we demonstrate the matrix product state (MPS) simulator to simulate MBQC\n",
        "with up to thousands of nodes at a time, without the need for approximation which is often present for circuit-MPS simulators.\n",
        "\n",
        "We will simulate n-qubit QFT circuit.\n",
        "Firstly, let us import relevant modules:\n"
      ]
    },
    {
      "cell_type": "code",
      "execution_count": null,
      "metadata": {
        "collapsed": false
      },
      "outputs": [],
      "source": [
        "import numpy as np\n",
        "from graphix import Circuit\n",
        "import networkx as nx\n",
        "import matplotlib.pyplot as plt\n",
        "%matplotlib inline \n",
        "\n",
        "def cp(circuit, theta, control, target):\n",
        "    circuit.rz(control, theta / 2)\n",
        "    circuit.rz(target, theta / 2)\n",
        "    circuit.cnot(control, target)\n",
        "    circuit.rz(target, -1 * theta / 2)\n",
        "    circuit.cnot(control, target)\n",
        "\n",
        "\n",
        "def swap(circuit, a, b):\n",
        "    circuit.cnot(a, b)\n",
        "    circuit.cnot(b, a)\n",
        "    circuit.cnot(a, b)\n",
        "\n",
        "\n",
        "def qft_rotations(circuit, n):\n",
        "    if n == 0:\n",
        "        return circuit\n",
        "    n -= 1\n",
        "    circuit.h(n)\n",
        "    for qubit in range(n):\n",
        "        cp(circuit, np.pi / 2 ** (n - qubit), qubit, n)\n",
        "\n",
        "\n",
        "def swap_registers(circuit, n):\n",
        "    for qubit in range(n // 2):\n",
        "        swap(circuit, qubit, n - qubit - 1)\n",
        "    return circuit\n",
        "\n",
        "\n",
        "def qft(circuit, n):\n",
        "    for i in range(n):\n",
        "        m = n - i\n",
        "        qft_rotations(circuit, m)\n",
        "    swap_registers(circuit, n)"
      ]
    },
    {
      "cell_type": "markdown",
      "metadata": {},
      "source": [
        "We will simulate 7-qubit QFT, which requires nearly 250 nodes to be simulated.\n",
        "\n"
      ]
    },
    {
      "cell_type": "code",
      "execution_count": null,
      "metadata": {
        "collapsed": false
      },
      "outputs": [],
      "source": [
        "n = 7\n",
        "print(\"{}-qubit QFT\".format(n))\n",
        "circuit = Circuit(n)\n",
        "\n",
        "for i in range(n):\n",
        "    circuit.h(i)\n",
        "qft(circuit, n)\n",
        "\n",
        "# standardize pattern\n",
        "pattern = circuit.transpile()\n",
        "pattern.standardize()\n",
        "nodes, edges = pattern.get_graph()\n",
        "g = nx.Graph()\n",
        "g.add_nodes_from(nodes)\n",
        "g.add_edges_from(edges)\n",
        "np.random.seed(100)\n",
        "nx.draw(g)\n",
        "plt.show()\n",
        "print(len(nodes))"
      ]
    },
    {
      "cell_type": "markdown",
      "metadata": {},
      "source": [
        "You can easily check that the below code run without much load on the computer.\n",
        "Also notice that we have not used :meth:`graphix.pattern.Pattern.minimize_space()`,\n",
        "which we know reduced the burden on the simulator.\n",
        "To specify MPS backend of the simulation, simply provide as a keyword argument.\n",
        "here we do a very basic check that the state is what is is expected to be:\n",
        "\n"
      ]
    },
    {
      "cell_type": "code",
      "execution_count": null,
      "metadata": {
        "collapsed": false
      },
      "outputs": [],
      "source": [
        "mps = pattern.simulate_pattern(backend=\"mps\")\n",
        "value = mps.get_amplitude(0)\n",
        "print(\"amplitude of |00000> is \", value)\n",
        "print(\"1/2^n (true answer) is\", 1 / 2 ** n)"
      ]
    }
  ],
  "metadata": {
    "kernelspec": {
      "display_name": "paddle",
      "language": "python",
      "name": "python3"
    },
    "language_info": {
      "codemirror_mode": {
        "name": "ipython",
        "version": 3
      },
      "file_extension": ".py",
      "mimetype": "text/x-python",
      "name": "python",
      "nbconvert_exporter": "python",
      "pygments_lexer": "ipython3",
      "version": "3.8.13 (default, Mar 28 2022, 06:16:26) \n[Clang 12.0.0 ]"
    },
    "vscode": {
      "interpreter": {
        "hash": "d766a1d91478a3683c88b1a46912ee24dc3af921c3c6ee3a96239ae75f9dea0f"
      }
    }
  },
  "nbformat": 4,
  "nbformat_minor": 0
}
