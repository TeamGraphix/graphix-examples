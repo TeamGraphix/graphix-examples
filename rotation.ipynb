{
  "cells": [
    {
      "cell_type": "code",
      "execution_count": null,
      "metadata": {
        "collapsed": false
      },
      "outputs": [],
      "source": [
        "%matplotlib inline"
      ]
    },
    {
      "cell_type": "markdown",
      "metadata": {},
      "source": [
        "\n# Simple example & visualizing graphs\n\nHere, we show a most basic MBQC proramming using graphix library.\nIn this example, we consider trivial problem of the rotation of two qubits in |0> states.\nWe show how transpiler (:class:`~graphix.transpiler.Circuit` class) can be used, and show the resulting meausrement pattern.\n\nIn the next example, we describe our visualization tool :class:`~graphix.visualization.GraphVisualizer` and how to understand the plot.\n\nFirst, let us import relevant modules:\n"
      ]
    },
    {
      "cell_type": "code",
      "execution_count": null,
      "metadata": {
        "collapsed": false
      },
      "outputs": [],
      "source": [
        "import numpy as np\nfrom graphix import Circuit, Statevec\nfrom graphix.ops import Ops\nimport matplotlib.pyplot as plt"
      ]
    },
    {
      "cell_type": "markdown",
      "metadata": {},
      "source": [
        "Here, :class:`~graphix.sim.statevec.Statevec` is our simple statevector simulator class.\nNext, let us define the problem with a standard quantum circuit.\nNote that in graphix all qubits starts in |+> states. For this example, we use Hadamard gate (:meth:`graphix.transpiler.Circuit.h`) to start with |0>\n\n"
      ]
    },
    {
      "cell_type": "code",
      "execution_count": null,
      "metadata": {
        "collapsed": false
      },
      "outputs": [],
      "source": [
        "circuit = Circuit(2)\n\n# initialize qubits in |0>, not |+>\ncircuit.h(1)\ncircuit.h(0)\n\n# apply rotation gates\ntheta = np.random.rand(2)\ncircuit.rx(0, theta[0])\ncircuit.rx(1, theta[1])"
      ]
    },
    {
      "cell_type": "markdown",
      "metadata": {},
      "source": [
        "Now we transpile into measurement pattern using :meth:`~graphix.transpiler.Circuit.transpile` method.\nThis returns :class:`~graphix.pattern.Pattern` object containing measurement pattern:\n\n"
      ]
    },
    {
      "cell_type": "code",
      "execution_count": null,
      "metadata": {
        "collapsed": false
      },
      "outputs": [],
      "source": [
        "pattern = circuit.transpile()\npattern.print_pattern(lim=10)"
      ]
    },
    {
      "cell_type": "markdown",
      "metadata": {},
      "source": [
        "We can plot the graph state to run the above pattern.\nSince there's no two-qubit gates applied to the two qubits in the original gate sequence,\nwe see decoupled 1D graphs representing the evolution of single qubits.\nThe arrows are the [information flow](https://journals.aps.org/pra/abstract/10.1103/PhysRevA.74.052310) of the MBQC pattern, obtained using the flow-finding algorithm implemented in :class:`graphix.gflow.flow`. \n\n- Nodes with red boundaries are the *input nodes* where the computation starts.\n- Nodes with gray color is the *output nodes* where the final state end up in.\n- Nodes with blue color is the nodes that are measured in *Pauli basis*, one of *X*, *Y* or *Z* computational bases.\n- Nodes in white are the ones measured in *non-Pauli basis*.\n\n\n"
      ]
    },
    {
      "cell_type": "code",
      "execution_count": null,
      "metadata": {
        "collapsed": false
      },
      "outputs": [],
      "source": [
        "pattern.draw_graph()"
      ]
    },
    {
      "cell_type": "markdown",
      "metadata": {},
      "source": [
        "we can directly simulate the measurement pattern, to obtain the output state.\n\n"
      ]
    },
    {
      "cell_type": "code",
      "execution_count": null,
      "metadata": {
        "collapsed": false
      },
      "outputs": [],
      "source": [
        "out_state = pattern.simulate_pattern()\nprint(out_state.flatten())"
      ]
    },
    {
      "cell_type": "markdown",
      "metadata": {},
      "source": [
        "Let us compare with statevector simulation of the original circuit:\n\n"
      ]
    },
    {
      "cell_type": "code",
      "execution_count": null,
      "metadata": {
        "collapsed": false
      },
      "outputs": [],
      "source": [
        "state = Statevec(nqubit=2, plus_states=False)  # starts with |0> states\nstate.evolve_single(Ops.Rx(theta[0]), 0)\nstate.evolve_single(Ops.Rx(theta[1]), 1)\nprint(\"overlap of states: \", np.abs(np.dot(state.psi.flatten().conjugate(), out_state.psi.flatten())))"
      ]
    },
    {
      "cell_type": "markdown",
      "metadata": {},
      "source": [
        "Now let us compile more complex pattern and inspect the graph using the visualization tool.\nHere, the additional edges with dotted lines are the ones that correspond to CNOT gates, which creates entanglement between the 1D clusters (nodes connected with directed edges) corresponding to the time evolution of a single qubit in the original circuit.\n\n"
      ]
    },
    {
      "cell_type": "code",
      "execution_count": null,
      "metadata": {
        "collapsed": false
      },
      "outputs": [],
      "source": [
        "circuit = Circuit(2)\n\n# apply rotation gates\ntheta = np.random.rand(4)\ncircuit.rz(0, theta[0])\ncircuit.rz(1, theta[1])\ncircuit.cnot(0, 1)\ncircuit.s(0)\ncircuit.cnot(1, 0)\ncircuit.rz(1, theta[2])\ncircuit.cnot(1, 0)\ncircuit.rz(0, theta[3])\n\npattern = circuit.transpile()\npattern.draw_graph()"
      ]
    }
  ],
  "metadata": {
    "kernelspec": {
      "display_name": "Python 3",
      "language": "python",
      "name": "python3"
    },
    "language_info": {
      "codemirror_mode": {
        "name": "ipython",
        "version": 3
      },
      "file_extension": ".py",
      "mimetype": "text/x-python",
      "name": "python",
      "nbconvert_exporter": "python",
      "pygments_lexer": "ipython3",
      "version": "3.8.16"
    }
  },
  "nbformat": 4,
  "nbformat_minor": 0
}