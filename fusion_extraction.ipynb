{
  "cells": [
    {
      "cell_type": "code",
      "execution_count": null,
      "metadata": {
        "collapsed": false
      },
      "outputs": [],
      "source": [
        "%matplotlib inline"
      ]
    },
    {
      "cell_type": "markdown",
      "metadata": {},
      "source": [
        "\n# Designing fusion network to generate resource graph state\n\nIn this example, we decompose a graph state into a set of GHZ and linear cluster resource states, such that fusion operations can be used on these 'micro-resource' states to obtain the desired graph state.\nThis is an important compilation stage to perform MBQC on discrete-variable optical QPUs.\n\nThe decomposition algorithm is based on [1].\n\n[1] Zilk et al., A compiler for universal photonic quantum computers, 2022 [arXiv:2210.09251](https://arxiv.org/abs/2210.09251)\n"
      ]
    },
    {
      "cell_type": "code",
      "execution_count": null,
      "metadata": {
        "collapsed": false
      },
      "outputs": [],
      "source": [
        "import itertools\nimport graphix\nfrom graphix.extraction import get_fusion_network_from_graph"
      ]
    },
    {
      "cell_type": "markdown",
      "metadata": {},
      "source": [
        "Here we say we want a graph state with 9 nodes and 12 edges.\nWe can obtain resource graph for a measurement pattern by using :code:`nodes, edges = pattern.get_graph()`.\n\n"
      ]
    },
    {
      "cell_type": "code",
      "execution_count": null,
      "metadata": {
        "collapsed": false
      },
      "outputs": [],
      "source": [
        "gs = graphix.GraphState()\nnodes = [0, 1, 2, 3, 4, 5, 6, 7, 8]\nedges = [(0, 1), (1, 2), (2, 3), (3, 0), (3, 4), (0, 5), (4, 5), (5, 6), (6, 7), (7, 0), (7, 8), (8, 1)]\ngs.add_nodes_from(nodes)\ngs.add_edges_from(edges)\ngs.draw()"
      ]
    },
    {
      "cell_type": "markdown",
      "metadata": {},
      "source": [
        "Decomposition with GHZ and linear cluster resource states with no limitation in their sizes.\n\n"
      ]
    },
    {
      "cell_type": "code",
      "execution_count": null,
      "metadata": {
        "collapsed": false
      },
      "outputs": [],
      "source": [
        "get_fusion_network_from_graph(gs)"
      ]
    },
    {
      "cell_type": "markdown",
      "metadata": {},
      "source": [
        "If you want to know what nodes are fused in each resource states, you can use :func:`~graphix.extraction.get_fusion_nodes` function.\nCurrently, we consider only type-I fusion. See [2] for the definition of fusion.\n\n[2] Daniel E. Browne and Terry Rudolph. Resource-efficient linear optical quantum computation. Physical Review Letters, 95(1):010501, 2005.\n\n"
      ]
    },
    {
      "cell_type": "code",
      "execution_count": null,
      "metadata": {
        "collapsed": false
      },
      "outputs": [],
      "source": [
        "fused_graphs = get_fusion_network_from_graph(gs)\nfor idx1, idx2 in itertools.combinations(range(len(fused_graphs)), 2):\n    print(\n        f\"fusion nodes between resource state {idx1} and resource state {idx2}: {graphix.extraction.get_fusion_nodes(fused_graphs[idx1], fused_graphs[idx2])}\"\n    )"
      ]
    },
    {
      "cell_type": "markdown",
      "metadata": {},
      "source": [
        "You can also specify the maximum size of GHZ clusters and linear clusters available, for more realistic fusion scheduling.\n\n"
      ]
    },
    {
      "cell_type": "code",
      "execution_count": null,
      "metadata": {
        "collapsed": false
      },
      "outputs": [],
      "source": [
        "get_fusion_network_from_graph(gs, max_ghz=4, max_lin=4)"
      ]
    }
  ],
  "metadata": {
    "kernelspec": {
      "display_name": "Python 3",
      "language": "python",
      "name": "python3"
    },
    "language_info": {
      "codemirror_mode": {
        "name": "ipython",
        "version": 3
      },
      "file_extension": ".py",
      "mimetype": "text/x-python",
      "name": "python",
      "nbconvert_exporter": "python",
      "pygments_lexer": "ipython3",
      "version": "3.8.16"
    }
  },
  "nbformat": 4,
  "nbformat_minor": 0
}