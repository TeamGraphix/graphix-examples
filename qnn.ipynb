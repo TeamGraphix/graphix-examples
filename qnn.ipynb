{
  "cells": [
    {
      "cell_type": "code",
      "execution_count": null,
      "metadata": {
        "collapsed": false
      },
      "outputs": [],
      "source": [
        "%matplotlib inline"
      ]
    },
    {
      "cell_type": "markdown",
      "metadata": {},
      "source": [
        "\n# Quantum classifier with MBQC\n\nIn this example, we run data re-uploading quantum cir1cuit from [Quantum 4, 226 (2020)](https://quantum-journal.org/papers/q-2020-02-06-226/) \nto perform binary classification of circles dataset from sklearn.\n\nFirstly, let us import relevant modules:\n"
      ]
    },
    {
      "cell_type": "code",
      "execution_count": null,
      "metadata": {
        "collapsed": false
      },
      "outputs": [],
      "source": [
        "from graphix.transpiler import Circuit\nimport networkx as nx\nimport numpy as np\nimport matplotlib.pyplot as plt\nfrom sklearn.datasets import make_circles\nfrom scipy.optimize import minimize\nfrom functools import reduce\nimport seaborn as sns\nfrom matplotlib import cm\nfrom IPython.display import clear_output\nfrom time import time\n\nnp.random.seed(0)"
      ]
    },
    {
      "cell_type": "markdown",
      "metadata": {},
      "source": [
        "## Dataset\nGenerate circles dataset with arge circle containing a smaller circle in 2d.\nThe dataset is padded with zeros to make it compatible with the quantum circuit. \nWe want the number of features to be a multiple of 3 as the quantum circuit uses 3 features at a time with gates $R_x, R_y, R_z$.\nWe also change the labels to -1 and 1 as later we will use Pauli Z operator for measurment whose expectation values are $\\pm 1$.\n\n"
      ]
    },
    {
      "cell_type": "code",
      "execution_count": null,
      "metadata": {
        "collapsed": false
      },
      "outputs": [],
      "source": [
        "x, y = make_circles(n_samples=100, noise=0.1, factor=0.1, random_state=32)\n\n# Plot the circle pattern\nplt.scatter(x[:, 0], x[:, 1], c=y)\nplt.title('circles dataset')\nplt.show()\n\n# pad data\nx = np.pad(x, ((0, 0), (0, 1)))\n\n# hinge labels\ny = 2*y - 1\nx.shape, y.shape"
      ]
    },
    {
      "cell_type": "markdown",
      "metadata": {},
      "source": [
        "## QNN Class with Graphix\nWe define a class for the quantum neural network which uses the data re-uploading quantum circuit.\n\n"
      ]
    },
    {
      "cell_type": "code",
      "execution_count": null,
      "metadata": {
        "collapsed": false
      },
      "outputs": [],
      "source": [
        "class QNN:\n    def __init__(self, n_qubits, n_layers, n_features):\n        \"\"\"\n        Initialize uantum neural network with a specified number of\n        qubits, layers, and features.\n        \n        Args:\n          n_qubits: The number of qubits in the quantum circuit.\n          n_layers: The number of layers in the quantum circuit.\n          n_features: The number of features used in the quantum circuit. \n          It must be a multiple of 3.\n        \"\"\"\n        super().__init__()\n        self.n_qubits = n_qubits\n        self.n_layers = n_layers\n        self.n_features = n_features\n        assert n_features % 3 == 0, \"n_features must be a multiple of 3\"\n        \n        # Pauli Z operator on all qubits\n        Z_OP = np.array([[1, 0], \n                      [0, -1]])\n        operator = [Z_OP]*self.n_qubits\n        self.obs = reduce(np.kron, operator)\n        self.cost_values = [] # to store cost values during optimization\n        \n    def rotation_layer(self, circuit, qubit, params, input_params):\n        \"\"\"\n        Apply otation gates around the x, y, and z axes to a specified qubit in a\n        quantum circuit.\n        \n        Args:\n          circuit: The quantum circuit on which the rotation layer is applied.\n          qubit: The qubit on which the rotation gates are applied.\n          params: The `params` variable is a 2D numpy array with shape `(3, 2)`.\n          input_params: Feature vector of shape `(3,)`.\n        \"\"\"\n        z = params[:, 0]*input_params + params[:, 1]\n        circuit.rx(qubit, z[0])\n        circuit.ry(qubit, z[1])\n        circuit.rz(qubit, z[2])\n\n    def entangling_layer(self, circuit, n_qubits):\n        \"\"\"\n        Linear entanglement between qubits in a given circuit.\n        \n        Args:\n          circuit: The quantum circuit object that the entangling layer will be added to.\n          n_qubits: The number of qubits in the quantum circuit.\n        \n        Returns:\n          If `n_qubits` is less than 2, nothing is returned. Otherwise, the function \n        performs a linear entanglement operation on the `n_qubits` qubits in the \n        given `circuit` using CNOT gates and does not return anything.\n        \"\"\"\n        if n_qubits < 2:\n            return \n        \n        # Linear entanglement\n        for i in range(n_qubits - 1):\n            circuit.cnot(i, i + 1)\n\n    def data_reuploading_circuit(self, input_params, params):\n        \"\"\"\n        Creates a data re-uploading quantum circuit using the given input parameters and \n        parameters for rotation and entangling layers.\n        \n        Args:\n          input_params: The input data to be encoded in the quantum circuit. It is a 1D \n        numpy array of shape `(n_features,)`, where n_features is the number of features \n        in the input data.\n          params: The `params` parameter is a flattened numpy array containing the values \n        of the trainable parameters of the quantum circuit. These parameters are used to \n        construct the circuit by reshaping them into a 4-dimensional array of shape \n        `(n_layers, n_qubits, n_features, 2)` where `n_layers` is the number of layers in\n        the quantum circuit, `n_qubits` is the number of qubits in the quantum circuit,\n        `n_features` is the number of features in the input data.\n        \n        Returns:\n          a quantum circuit object that has been constructed using the input parameters \n        and the parameters passed to the function.\n        \"\"\"\n        thetas = params.reshape(self.n_layers, self.n_qubits, self.n_features, 2)\n        circuit = Circuit(self.n_qubits)\n        for l in range(self.n_layers):\n            for f in range(self.n_features//3):\n                for q in range(self.n_qubits):\n                    self.rotation_layer(circuit, \n                                        q, \n                                        thetas[l][q][3*f:3*(f+1)], \n                                        input_params[3*f:3*(f+1)])\n\n            # Entangling layer\n            if l < self.n_layers -1:\n                self.entangling_layer(circuit, self.n_qubits)\n\n        return circuit\n    \n    def get_expectation_value(self, sv):\n        \"\"\"\n        Calculates the expectation value of an PauliZ obeservable given a state vector.\n        \n        Args:\n          sv: sSate vector represented as a numpy array.\n\n        Returns:\n          the expectation value of a quantum observable.\n        \"\"\"\n        exp_val = self.obs@sv\n        exp_val = np.dot(sv.conj(), exp_val)\n        return exp_val.real\n    \n    def compute_expectation(self, data_point, params):\n        \"\"\"\n        Computes the expectation value of a quantum circuit given a data point and\n        parameters.\n        \n        Args:\n          data_point: Input to the quantum circuit represented as a 1D numpy array.\n          params: The `params` parameter is a set of parameters that are used to \n        construct a quantum circuit. The specific details of what these parameters \n        represent is described in  `data_reuploading_circuit` method.\n        \n        Returns:\n          the expectation value of a quantum circuit, which is computed using the \n        statevector of the output state of the circuit.\n        \"\"\"\n        circuit = self.data_reuploading_circuit(data_point, params)\n        pattern = circuit.transpile()\n        pattern.standardize()\n        pattern.shift_signals()\n        out_state = pattern.simulate_pattern('tensornetwork')\n        sv = out_state.to_statevector().flatten()\n        return self.get_expectation_value(sv)\n    \n    def cost(self, params, x, y):\n        \"\"\"\n        Cost function to minimize. The function computes expectation value for each \n        data point followed by calculating the mean absolute difference between the \n        predicted and actual values. The cost value is also being appended to a list \n        called \"cost_values\"\n        \n        Args:\n          params: The `params` parameter is a set of parameters that are used to \n        construct a quantum circuit. The specific details of what these parameters \n        represent is described in  `data_reuploading_circuit` method.\n          x: x is a list of input data points used to make predictions. \n        Each data point is a list or array of features that the model uses to make \n        a prediction.\n          y: `y` is a numpy array containing the actual target values for the given \n        input data `x`. Each value in `y` is either -1 or 1.\n        \n        Returns:\n          the cost value\n        \"\"\"\n        y_pred = [self.compute_expectation(data_point, params) for data_point in x] \n        cost_val = np.mean(np.abs(y - y_pred))\n        self.cost_values.append(cost_val)\n        return cost_val\n    \n    def callback(self, xk):\n        \"\"\"\n        Plots the cost values against the number of iterations and displays the plot \n        with the latest cost value as a label.\n        \n        Args:\n          xk: `xk` is a parameter that represents the current value of the optimization \n        variable during the optimization process. It is typically a numpy array or a \n        list of values. The `callback` function is called at each iteration of the \n        optimization process and `xk` is passed as an argument to the function.\n        \"\"\"\n        clear_output(wait=True)\n        plt.ylabel('Cost')\n        plt.xlabel('Iterations')\n        cost_val = np.round(self.cost_values[-1],2)\n        plt.plot(self.cost_values, color='purple', lw=2, label=f'Cost {cost_val}')\n        plt.legend()\n        plt.grid()\n        plt.show()\n\n    def fit(self, x, y, maxiter=5):\n        \"\"\"\n        This function fits the QNN using the COBYLA optimization method with a maximum \n        number of iterations and returns the result.\n        \n        Args:\n          x: The input data for the model. It is a numpy array of shape \n        `(n_samples, n_features)`, where `n_samples` is the number of samples and \n        `n_features` is the number of features in each sample.\n          y: `y` is a numpy array containing the actual target values for the given \n        input data `x`. Each value in `y` is either -1 or 1.\n          maxiter: Maximum number of iterations that the optimization algorithm will \n        perform during the training process. Defaults to 5\n        \n        Returns:\n          The function `fit` returns the result of the optimization process performed \n        by the `minimize` function from the `scipy.optimize` module. \n        \"\"\"\n        params = np.random.rand(self.n_layers*self.n_qubits*self.n_features*2)\n        res = minimize(self.cost, \n                       params, \n                       args=(x, y), \n                       method='COBYLA', \n                       callback=self.callback, \n                       options = {'maxiter': maxiter, 'disp':True})\n        return res"
      ]
    },
    {
      "cell_type": "markdown",
      "metadata": {},
      "source": [
        "## Train QNN on Circles dataset\n\n"
      ]
    },
    {
      "cell_type": "code",
      "execution_count": null,
      "metadata": {
        "collapsed": false
      },
      "outputs": [],
      "source": [
        "n_qubits = 2\nn_layers = 2\nn_features = 3\n\nqnn = QNN(n_qubits, n_layers, n_features)\n\nstart = time()\nresult = qnn.fit(x, y, maxiter=80)\nend = time()\n\nprint(\"Duration:\", end-start)\nresult"
      ]
    },
    {
      "cell_type": "markdown",
      "metadata": {},
      "source": [
        "Compute predictions on the train data and calculate accuracy\n\n"
      ]
    },
    {
      "cell_type": "code",
      "execution_count": null,
      "metadata": {
        "collapsed": false
      },
      "outputs": [],
      "source": [
        "predictions = np.array([qnn.compute_expectation(data_point, result.x) for data_point in x])\npredictions[predictions > 0.0] = 1.0\npredictions[predictions <= 0.0] = -1.0\nprint(np.mean(y == predictions))"
      ]
    },
    {
      "cell_type": "markdown",
      "metadata": {},
      "source": [
        "## Visualize the decision boundary\nWe define the grid boundaries and create a meshgrid. We then compute the predictions for each point in the meshgrid\nand plot the decision boundary.\n\n"
      ]
    },
    {
      "cell_type": "code",
      "execution_count": null,
      "metadata": {
        "collapsed": false
      },
      "outputs": [],
      "source": [
        "GRID_X_START = -1.5\nGRID_X_END = 1.5\nGRID_Y_START = -1.5\nGRID_Y_END = 1.5\n\ngrid = np.mgrid[GRID_X_START:GRID_X_END:20j,GRID_X_START:GRID_Y_END:20j]\ngrid_2d = grid.reshape(2, -1).T\nXX, YY = grid\ngrid_2d = np.pad(grid_2d, ((0, 0), (0, 1)))\npredictions = np.array([qnn.compute_expectation(data_point, result.x) \n                        for data_point in grid_2d])\n\nprint(predictions.shape, XX.shape)"
      ]
    },
    {
      "cell_type": "code",
      "execution_count": null,
      "metadata": {
        "collapsed": false
      },
      "outputs": [],
      "source": [
        "plt.figure(figsize=(8,8))\nsns.set_style(\"whitegrid\")\nplt.title('Binary classification', fontsize=20)\nplt.xlabel('X', fontsize=15)\nplt.ylabel('Y', fontsize=15)\nplt.contourf(XX, YY, predictions.reshape(XX.shape), alpha = 0.7, cmap=cm.Spectral)\nplt.scatter(x[:, 0], x[:, 1], c=y.ravel(), s=50, cmap=plt.cm.Spectral, edgecolors='black')\nplt.colorbar()\nplt.show()"
      ]
    },
    {
      "cell_type": "markdown",
      "metadata": {},
      "source": [
        "## Measurement Patterns for the QNN\n\n"
      ]
    },
    {
      "cell_type": "code",
      "execution_count": null,
      "metadata": {
        "collapsed": false
      },
      "outputs": [],
      "source": [
        "n_qubits = 2\nn_layers = 2\nn_features = 3\n\nparams = np.random.rand(n_layers * n_qubits * n_features * 2)\ninput_params = np.random.rand(n_features)\n\nqnn = QNN(n_qubits, n_layers, n_features)\ncircuit = qnn.data_reuploading_circuit(input_params, params)\npattern = circuit.transpile(opt=False)\npattern.standardize()\npattern.shift_signals()\n\nprint(pattern.max_space())"
      ]
    },
    {
      "cell_type": "markdown",
      "metadata": {},
      "source": [
        "Plot the resource state. Node positions are determined by the flow-finding algorithm.\n\n"
      ]
    },
    {
      "cell_type": "code",
      "execution_count": null,
      "metadata": {
        "collapsed": false
      },
      "outputs": [],
      "source": [
        "nodes, edges = pattern.get_graph()\ng = nx.Graph()\ng.add_nodes_from(nodes)\ng.add_edges_from(edges)\n\nfrom graphix.gflow import flow\n\nf, l_k = flow(g, set(range(n_qubits)), set(pattern.output_nodes))\n\nflow = [[i] for i in range(n_qubits)]\nfor i in range(n_qubits):\n    contd = True\n    val = i\n    while contd:\n        try:\n            val = f[val]\n            flow[i].append(val)\n        except KeyError:\n            contd = False\nlongest = np.max([len(flow[i]) for i in range(n_qubits)])\n\npos = dict()\nfor i in range(n_qubits):\n    length = len(flow[i])\n    fac = longest / (length - 1)\n    for j in range(len(flow[i])):\n        pos[flow[i][j]] = (fac * j, -i)\n\n# determine wheher or not a node will be measured in Pauli basis\ndef get_clr_list(pattern):\n    nodes, edges = pattern.get_graph()\n    meas_list = pattern.get_measurement_commands()\n    g = nx.Graph()\n    g.add_nodes_from(nodes)\n    g.add_edges_from(edges)\n    clr_list = []\n    for i in g.nodes:\n        for cmd in meas_list:\n            if cmd[1] == i:\n                if cmd[3] in [-1, -0.5, 0, 0.5, 1]:\n                    clr_list.append([0.5, 0.5, 0.5])\n                else:\n                    clr_list.append([1, 1, 1])\n        if i in pattern.output_nodes:\n            clr_list.append([0.8, 0.8, 0.8])\n    return clr_list\n\ngraph_params = {\"with_labels\": True, \n                \"alpha\":0.8, \n                \"node_size\": 350, \n                \"node_color\": get_clr_list(pattern), \n                \"edgecolors\": \"k\"}\n\nnx.draw(g, pos=pos, **graph_params)"
      ]
    },
    {
      "cell_type": "markdown",
      "metadata": {},
      "source": [
        "The resource state after Pauli measurement preprocessing:\n\n"
      ]
    },
    {
      "cell_type": "code",
      "execution_count": null,
      "metadata": {
        "collapsed": false
      },
      "outputs": [],
      "source": [
        "pattern.perform_pauli_measurements()\nnodes, edges = pattern.get_graph()\ng = nx.Graph()\ng.add_nodes_from(nodes)\ng.add_edges_from(edges)\ngraph_params = {\"with_labels\": True, \n                \"alpha\":0.8, \n                \"node_size\": 350, \n                \"node_color\": get_clr_list(pattern), \n                \"edgecolors\": \"k\"}\n\npos = { # hand-typed for better look\n    3: (0,0),\n    4: (1,0),\n    5: (2,0),\n    7: (3,0),\n    11: (0,-1),\n    12: (3,-1),\n    13: (4,-1),\n    15: (5,-1),\n    20: (4,0),\n    21: (5,0),\n    22: (6,0),\n    23: (7,0),\n    25: (8,0),\n    27: (9,0),\n    28: (6,-1),\n    29: (7,-1),\n    30: (8,-1),\n    31: (9,-1),\n    33: (10,-1),\n    35: (11,-1),\n}\n\nnx.draw(g, pos=pos, **graph_params)"
      ]
    },
    {
      "cell_type": "markdown",
      "metadata": {},
      "source": [
        "## Qubit Resource plot\n\n"
      ]
    },
    {
      "cell_type": "code",
      "execution_count": null,
      "metadata": {
        "collapsed": false
      },
      "outputs": [],
      "source": [
        "qubits = range(1, 10)\nn_layers = 2\nn_features = 3\ninput_params = np.random.rand(n_features)\n\nbefore_meas = []\nafter_meas = []\n\nfor n_qubits in qubits:\n    \n    params = np.random.rand(n_layers * n_qubits * n_features * 2)\n    qnn = QNN(n_qubits, n_layers, n_features)\n    circuit = qnn.data_reuploading_circuit(input_params, params)\n    pattern = circuit.transpile()\n    pattern.standardize()\n    pattern.shift_signals()\n\n    before_meas.append(pattern.max_space())\n    \n    pattern.perform_pauli_measurements()\n    after_meas.append(pattern.max_space())\n    \n    del circuit, pattern, qnn, params"
      ]
    },
    {
      "cell_type": "markdown",
      "metadata": {},
      "source": [
        "Resource state size vs circut width\n\n"
      ]
    },
    {
      "cell_type": "code",
      "execution_count": null,
      "metadata": {
        "collapsed": false
      },
      "outputs": [],
      "source": [
        "plt.plot(qubits, before_meas, '.-', label='Before Pauli Meas')\nplt.plot(qubits, after_meas, '.-', label='After Pauli Meas')\nplt.xlabel(\"qubits\")\nplt.ylabel(\"max space\")\nplt.show()"
      ]
    }
  ],
  "metadata": {
    "kernelspec": {
      "display_name": "Python 3",
      "language": "python",
      "name": "python3"
    },
    "language_info": {
      "codemirror_mode": {
        "name": "ipython",
        "version": 3
      },
      "file_extension": ".py",
      "mimetype": "text/x-python",
      "name": "python",
      "nbconvert_exporter": "python",
      "pygments_lexer": "ipython3",
      "version": "3.9.15"
    }
  },
  "nbformat": 4,
  "nbformat_minor": 0
}