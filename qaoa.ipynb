{
  "cells": [
    {
      "cell_type": "code",
      "execution_count": null,
      "metadata": {
        "collapsed": false
      },
      "outputs": [],
      "source": [
        "%matplotlib inline"
      ]
    },
    {
      "cell_type": "markdown",
      "metadata": {},
      "source": [
        "\n# QAOA\n\nHere we reproduce the figure in our preprint [arXiv:2212.11975](https://arxiv.org/abs/2212.11975).\n\nYou can run this code on your browser with [mybinder.org](https://mybinder.org/) - click the badge below.\n\n<img src=\"https://mybinder.org/badge_logo.svg\" target=\"https://mybinder.org/v2/gh/TeamGraphix/graphix-examples/HEAD?labpath=qaoa.ipynb\">\n"
      ]
    },
    {
      "cell_type": "code",
      "execution_count": null,
      "metadata": {
        "collapsed": false
      },
      "outputs": [],
      "source": [
        "from graphix import Circuit\nimport networkx as nx\nimport numpy as np\nimport matplotlib.pyplot as plt\n\nn = 4\nxi = np.random.rand(6)\ntheta = np.random.rand(4)\ng = nx.complete_graph(n)\ncircuit = Circuit(n)\nfor i, (u, v) in enumerate(g.edges):\n    circuit.cnot(u, v)\n    circuit.rz(v, xi[i])\n    circuit.cnot(u, v)\nfor v in g.nodes:\n    circuit.rx(v, theta[v])"
      ]
    },
    {
      "cell_type": "markdown",
      "metadata": {},
      "source": [
        "transpile and get the graph state\n\n"
      ]
    },
    {
      "cell_type": "code",
      "execution_count": null,
      "metadata": {
        "collapsed": false
      },
      "outputs": [],
      "source": [
        "pattern = circuit.transpile()\npattern.standardize()\npattern.shift_signals()\nnodes, edges = pattern.get_graph()\ng = nx.Graph()\ng.add_nodes_from(nodes)\ng.add_edges_from(edges)"
      ]
    },
    {
      "cell_type": "markdown",
      "metadata": {},
      "source": [
        "script to specify graph node positions and colors.\n\nWe work out how to place nodes on the plot, by using the flow-finding algorithm.\n\n"
      ]
    },
    {
      "cell_type": "code",
      "execution_count": null,
      "metadata": {
        "collapsed": false
      },
      "outputs": [],
      "source": [
        "from graphix.gflow import flow\n\nf, l_k = flow(g, {0, 1, 2, 3}, set(pattern.output_nodes))\n\nflow = [[i] for i in range(4)]\nfor i in range(4):\n    contd = True\n    val = i\n    while contd:\n        try:\n            val = f[val]\n            flow[i].append(val)\n        except KeyError:\n            contd = False\nlongest = np.max([len(flow[i]) for i in range(4)])\n\npos = dict()\nfor i in range(4):\n    length = len(flow[i])\n    fac = longest / (length - 1)\n    for j in range(len(flow[i])):\n        pos[flow[i][j]] = (fac * j, -i)\n\n# determine wheher or not a node will be measured in Pauli basis\ndef get_clr_list(pattern):\n    nodes, edges = pattern.get_graph()\n    meas_list = pattern.get_measurement_commands()\n    g = nx.Graph()\n    g.add_nodes_from(nodes)\n    g.add_edges_from(edges)\n    clr_list = []\n    for i in g.nodes:\n        for cmd in meas_list:\n            if cmd[1] == i:\n                if cmd[3] in [-1, -0.5, 0, 0.5, 1]:\n                    clr_list.append([0.5, 0.5, 0.5])\n                else:\n                    clr_list.append([1, 1, 1])\n        if i in pattern.output_nodes:\n            clr_list.append([0.8, 0.8, 0.8])\n    return clr_list\n\n\ngraph_params = {\"with_labels\": False, \"node_size\": 150, \"node_color\": get_clr_list(pattern), \"edgecolors\": \"k\"}\nnx.draw(g, pos=pos, **graph_params)"
      ]
    },
    {
      "cell_type": "markdown",
      "metadata": {},
      "source": [
        "perform Pauli measurements and plot the new (minimal) graph to perform the same quantum computation\n\n"
      ]
    },
    {
      "cell_type": "code",
      "execution_count": null,
      "metadata": {
        "collapsed": false
      },
      "outputs": [],
      "source": [
        "pattern.perform_pauli_measurements()\nnodes, edges = pattern.get_graph()\ng = nx.Graph()\ng.add_nodes_from(nodes)\ng.add_edges_from(edges)\ngraph_params = {\"with_labels\": False, \"node_size\": 150, \"node_color\": get_clr_list(pattern), \"edgecolors\": \"k\"}\npos = { # hand-typed for better look\n    40: (0, 0),\n    5: (0, -1),\n    11: (0, -2),\n    17: (0, -3),\n    23: (1, -2),\n    29: (1, -3),\n    35: (2, -3),\n    42: (3, -1),\n    44: (3, -2),\n    46: (3, -3),\n    41: (4, 0),\n    43: (4, -1),\n    45: (4, -2),\n    47: (4, -3),\n}\nnx.draw(g, pos=pos, **graph_params)"
      ]
    },
    {
      "cell_type": "markdown",
      "metadata": {},
      "source": [
        "finally, simulate the QAOA circuit\n\n"
      ]
    },
    {
      "cell_type": "code",
      "execution_count": null,
      "metadata": {
        "collapsed": false
      },
      "outputs": [],
      "source": [
        "out_state = pattern.simulate_pattern()\nstate = circuit.simulate_statevector()\nprint(\"overlap of states: \", np.abs(np.dot(state.psi.flatten().conjugate(), out_state.psi.flatten())))\n# sphinx_gallery_thumbnail_number = 2"
      ]
    }
  ],
  "metadata": {
    "kernelspec": {
      "display_name": "Python 3",
      "language": "python",
      "name": "python3"
    },
    "language_info": {
      "codemirror_mode": {
        "name": "ipython",
        "version": 3
      },
      "file_extension": ".py",
      "mimetype": "text/x-python",
      "name": "python",
      "nbconvert_exporter": "python",
      "pygments_lexer": "ipython3",
      "version": "3.9.15"
    }
  },
  "nbformat": 4,
  "nbformat_minor": 0
}