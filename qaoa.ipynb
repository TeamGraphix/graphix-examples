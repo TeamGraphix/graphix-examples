{
  "cells": [
    {
      "cell_type": "markdown",
      "metadata": {},
      "source": [
        "\n",
        "# QAOA\n",
        "\n",
        "Here we reproduce the figure in our preprint [arXiv:2212.11975](https://arxiv.org/abs/2212.11975).\n"
      ]
    },
    {
      "cell_type": "code",
      "execution_count": null,
      "metadata": {
        "collapsed": false
      },
      "outputs": [],
      "source": [
        "from graphix import Circuit\n",
        "import networkx as nx\n",
        "import numpy as np\n",
        "import matplotlib.pyplot as plt\n",
        "\n",
        "n = 4\n",
        "xi = np.random.rand(6)\n",
        "theta = np.random.rand(4)\n",
        "g = nx.complete_graph(n)\n",
        "circuit = Circuit(n)\n",
        "for i, (u, v) in enumerate(g.edges):\n",
        "    circuit.cnot(u, v)\n",
        "    circuit.rz(v, xi[i])\n",
        "    circuit.cnot(u, v)\n",
        "for v in g.nodes:\n",
        "    circuit.rx(v, theta[v])"
      ]
    },
    {
      "cell_type": "markdown",
      "metadata": {},
      "source": [
        "transpile and get the graph state\n",
        "\n"
      ]
    },
    {
      "cell_type": "code",
      "execution_count": null,
      "metadata": {
        "collapsed": false
      },
      "outputs": [],
      "source": [
        "pattern = circuit.transpile()\n",
        "pattern.standardize()\n",
        "pattern.shift_signals()\n",
        "nodes, edges = pattern.get_graph()\n",
        "g = nx.Graph()\n",
        "g.add_nodes_from(nodes)\n",
        "g.add_edges_from(edges)"
      ]
    },
    {
      "cell_type": "markdown",
      "metadata": {},
      "source": [
        "script to specify graph node positions and colors\n",
        "we work out how nodes should be connected using flow-finding algorithm\n",
        "\n"
      ]
    },
    {
      "cell_type": "code",
      "execution_count": null,
      "metadata": {
        "collapsed": false
      },
      "outputs": [],
      "source": [
        "from graphix.gflow import flow\n",
        "\n",
        "f, l_k = flow(g, {0, 1, 2, 3}, set(pattern.output_nodes))\n",
        "\n",
        "flow = [[i] for i in range(4)]\n",
        "for i in range(4):\n",
        "    contd = True\n",
        "    val = i\n",
        "    while contd:\n",
        "        try:\n",
        "            val = f[val]\n",
        "            flow[i].append(val)\n",
        "        except KeyError:\n",
        "            contd = False\n",
        "longest = np.max([len(flow[i]) for i in range(4)])\n",
        "\n",
        "pos = dict()\n",
        "for i in range(4):\n",
        "    length = len(flow[i])\n",
        "    fac = longest / (length - 1)\n",
        "    for j in range(len(flow[i])):\n",
        "        pos[flow[i][j]] = (fac * j, -i)\n",
        "\n",
        "# determine wheher or not a node will be measured in Pauli basis\n",
        "def get_clr_list(pattern):\n",
        "    nodes, edges = pattern.get_graph()\n",
        "    meas_list = pattern.get_measurement_order()\n",
        "    g = nx.Graph()\n",
        "    g.add_nodes_from(nodes)\n",
        "    g.add_edges_from(edges)\n",
        "    clr_list = []\n",
        "    for i in g.nodes:\n",
        "        for cmd in meas_list:\n",
        "            if cmd[1] == i:\n",
        "                if cmd[3] in [-1, -0.5, 0, 0.5, 1]:\n",
        "                    clr_list.append([0.5, 0.5, 0.5])\n",
        "                else:\n",
        "                    clr_list.append([1, 1, 1])\n",
        "        if i in pattern.output_nodes:\n",
        "            clr_list.append([0.8, 0.8, 0.8])\n",
        "    return clr_list\n",
        "\n",
        "\n",
        "graph_params = {\"with_labels\": False, \"node_size\": 150, \"node_color\": get_clr_list(pattern), \"edgecolors\": \"k\"}\n",
        "nx.draw(g, pos=pos, **graph_params)"
      ]
    },
    {
      "cell_type": "markdown",
      "metadata": {},
      "source": [
        "perform Pauli measurements and plot the new graph\n",
        "\n"
      ]
    },
    {
      "cell_type": "code",
      "execution_count": null,
      "metadata": {
        "collapsed": false
      },
      "outputs": [],
      "source": [
        "pattern.perform_pauli_measurements()\n",
        "nodes, edges = pattern.get_graph()\n",
        "g = nx.Graph()\n",
        "g.add_nodes_from(nodes)\n",
        "g.add_edges_from(edges)\n",
        "graph_params = {\"with_labels\": False, \"node_size\": 150, \"node_color\": get_clr_list(pattern), \"edgecolors\": \"k\"}\n",
        "pos = {\n",
        "    40: (0, 0),\n",
        "    5: (0, -1),\n",
        "    11: (0, -2),\n",
        "    17: (0, -3),\n",
        "    23: (1, -2),\n",
        "    29: (1, -3),\n",
        "    35: (2, -3),\n",
        "    42: (3, -1),\n",
        "    44: (3, -2),\n",
        "    46: (3, -3),\n",
        "    41: (4, 0),\n",
        "    43: (4, -1),\n",
        "    45: (4, -2),\n",
        "    47: (4, -3),\n",
        "}\n",
        "nx.draw(g, pos=pos, **graph_params)"
      ]
    },
    {
      "cell_type": "markdown",
      "metadata": {},
      "source": [
        "finally, simulate the QAOA circuit\n",
        "\n"
      ]
    },
    {
      "cell_type": "code",
      "execution_count": null,
      "metadata": {
        "collapsed": false
      },
      "outputs": [],
      "source": [
        "out_state = pattern.simulate_pattern()\n",
        "state = circuit.simulate_statevector()\n",
        "print(\"overlap of states: \", np.abs(np.dot(state.psi.flatten().conjugate(), out_state.psi.flatten())))\n",
        "# sphinx_gallery_thumbnail_number = 2"
      ]
    }
  ],
  "metadata": {
    "kernelspec": {
      "display_name": "paddle",
      "language": "python",
      "name": "python3"
    },
    "language_info": {
      "codemirror_mode": {
        "name": "ipython",
        "version": 3
      },
      "file_extension": ".py",
      "mimetype": "text/x-python",
      "name": "python",
      "nbconvert_exporter": "python",
      "pygments_lexer": "ipython3",
      "version": "3.8.13 (default, Mar 28 2022, 06:16:26) \n[Clang 12.0.0 ]"
    },
    "vscode": {
      "interpreter": {
        "hash": "d766a1d91478a3683c88b1a46912ee24dc3af921c3c6ee3a96239ae75f9dea0f"
      }
    }
  },
  "nbformat": 4,
  "nbformat_minor": 0
}
